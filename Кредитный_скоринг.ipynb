{
  "nbformat": 4,
  "nbformat_minor": 0,
  "metadata": {
    "colab": {
      "provenance": [],
      "toc_visible": true,
      "collapsed_sections": [
        "eAaGkxSbV5Ty"
      ],
      "authorship_tag": "ABX9TyO+p1OcxXgRWBt2CujvbC2X",
      "include_colab_link": true
    },
    "kernelspec": {
      "name": "python3",
      "display_name": "Python 3"
    },
    "language_info": {
      "name": "python"
    }
  },
  "cells": [
    {
      "cell_type": "markdown",
      "metadata": {
        "id": "view-in-github",
        "colab_type": "text"
      },
      "source": [
        "<a href=\"https://colab.research.google.com/github/maksim267/Credit_Scoring/blob/main/%D0%9A%D1%80%D0%B5%D0%B4%D0%B8%D1%82%D0%BD%D1%8B%D0%B9_%D1%81%D0%BA%D0%BE%D1%80%D0%B8%D0%BD%D0%B3.ipynb\" target=\"_parent\"><img src=\"https://colab.research.google.com/assets/colab-badge.svg\" alt=\"Open In Colab\"/></a>"
      ]
    },
    {
      "cell_type": "markdown",
      "source": [
        "# Кредитный скоринг"
      ],
      "metadata": {
        "id": "VbMw38J7Co6s"
      }
    },
    {
      "cell_type": "markdown",
      "source": [
        "# Загрузка данных"
      ],
      "metadata": {
        "id": "EcAQXThnDR0q"
      }
    },
    {
      "cell_type": "code",
      "execution_count": null,
      "metadata": {
        "id": "hwuvhApGCADr"
      },
      "outputs": [],
      "source": [
        "import pandas as pd\n",
        "import numpy as np\n",
        "from matplotlib import pyplot as plt"
      ]
    },
    {
      "cell_type": "code",
      "source": [
        "from google.colab import drive\n",
        "drive.mount('/content/gdrive/')\n",
        "!unzip -q /content/gdrive/MyDrive/findata-creditscoring.zip"
      ],
      "metadata": {
        "id": "Z1jUmJvcQ4bU",
        "colab": {
          "base_uri": "https://localhost:8080/"
        },
        "outputId": "ba4624a2-b648-4d2b-b05d-fd084435d6de"
      },
      "execution_count": null,
      "outputs": [
        {
          "metadata": {
            "tags": null
          },
          "name": "stdout",
          "output_type": "stream",
          "text": [
            "Drive already mounted at /content/gdrive/; to attempt to forcibly remount, call drive.mount(\"/content/gdrive/\", force_remount=True).\n",
            "replace credit__sample.csv? [y]es, [n]o, [A]ll, [N]one, [r]ename: "
          ]
        }
      ]
    },
    {
      "cell_type": "code",
      "source": [
        "data = pd.read_csv('./credit_train.csv')\n",
        "target_col=\"Loan Status\""
      ],
      "metadata": {
        "id": "x_B9mjbaD_FS"
      },
      "execution_count": null,
      "outputs": []
    },
    {
      "cell_type": "code",
      "source": [
        "data"
      ],
      "metadata": {
        "id": "HLFTlBPPEcXe"
      },
      "execution_count": null,
      "outputs": []
    },
    {
      "cell_type": "markdown",
      "source": [
        "# Работа над пропущенными значениями"
      ],
      "metadata": {
        "id": "tvj3KHHTOh8q"
      }
    },
    {
      "cell_type": "code",
      "source": [
        "data[\"Customer ID\"].value_counts()# pfvtnbv"
      ],
      "metadata": {
        "id": "2ER3PZMpF1Hy"
      },
      "execution_count": null,
      "outputs": []
    },
    {
      "cell_type": "code",
      "source": [
        "data.loc[data[\"Customer ID\"].map(data[\"Customer ID\"].value_counts()) > 1, \"Number of Occurrences\"] = 1\n",
        "data.loc[data[\"Customer ID\"].map(data[\"Customer ID\"].value_counts()) == 1, \"Number of Occurrences\"] = 0\n",
        "data = data.drop(columns=[\"Customer ID\",\"Loan ID\"])"
      ],
      "metadata": {
        "id": "cCzQxLw8GrJr"
      },
      "execution_count": null,
      "outputs": []
    },
    {
      "cell_type": "code",
      "source": [
        "data.isna().sum(axis=0)"
      ],
      "metadata": {
        "id": "MEzHWeBRFNqm"
      },
      "execution_count": null,
      "outputs": []
    },
    {
      "cell_type": "code",
      "source": [
        "data[\"Credit Score\"].value_counts().sort_index()"
      ],
      "metadata": {
        "id": "cpBE6WrcKY2F"
      },
      "execution_count": null,
      "outputs": []
    },
    {
      "cell_type": "code",
      "source": [
        "data[[\"Annual Income\",\"Credit Score\"]].sort_values(by=\"Annual Income\", ascending=True)"
      ],
      "metadata": {
        "id": "i78FPfRjLW8L"
      },
      "execution_count": null,
      "outputs": []
    },
    {
      "cell_type": "code",
      "source": [
        "data[\"Annual Income\"] =data[\"Annual Income\"].fillna(data['Annual Income'].median())\n",
        "data[\"Credit Score\"]=data[\"Credit Score\"].fillna(data['Credit Score'].median())"
      ],
      "metadata": {
        "id": "ZeOCZ6O0NFSy"
      },
      "execution_count": null,
      "outputs": []
    },
    {
      "cell_type": "code",
      "source": [
        "data[\"Years in current job\"].value_counts()"
      ],
      "metadata": {
        "id": "XshtK184NxrO"
      },
      "execution_count": null,
      "outputs": []
    },
    {
      "cell_type": "code",
      "source": [
        "data[\"Years in current job\"]=data[\"Years in current job\"].fillna(-1)"
      ],
      "metadata": {
        "id": "yQpUHm60OGII"
      },
      "execution_count": null,
      "outputs": []
    },
    {
      "cell_type": "code",
      "source": [
        "data[\"Months since last delinquent\"].value_counts().sort_index()"
      ],
      "metadata": {
        "id": "8ry43_FrOY0Y"
      },
      "execution_count": null,
      "outputs": []
    },
    {
      "cell_type": "code",
      "source": [
        "# data = data.drop(columns=[\"Months since last delinquent\"])\n",
        "data[\"Months since last delinquent\"]=data[\"Months since last delinquent\"].fillna(-1)"
      ],
      "metadata": {
        "id": "ckvZ6aTTPVoe"
      },
      "execution_count": null,
      "outputs": []
    },
    {
      "cell_type": "code",
      "source": [
        "data = data.drop(index=data[pd.isna(data[\"Maximum Open Credit\"])].index).reset_index(drop=True)"
      ],
      "metadata": {
        "id": "ZPnzpcqdQsCr"
      },
      "execution_count": null,
      "outputs": []
    },
    {
      "cell_type": "code",
      "source": [
        "data[\"Bankruptcies\"].value_counts().sort_index()"
      ],
      "metadata": {
        "id": "WfP_1hY9biVn"
      },
      "execution_count": null,
      "outputs": []
    },
    {
      "cell_type": "code",
      "source": [
        "# data = data.drop(columns=[\"Bankruptcies\"])\n",
        "data[\"Bankruptcies\"]=data[\"Bankruptcies\"].fillna(0)"
      ],
      "metadata": {
        "id": "-SGXTiEDbrHb"
      },
      "execution_count": null,
      "outputs": []
    },
    {
      "cell_type": "code",
      "source": [
        "data = data.drop(index=data[pd.isna(data[\"Tax Liens\"])].index).reset_index(drop=True)"
      ],
      "metadata": {
        "id": "OTrIdPUUcGJ2"
      },
      "execution_count": null,
      "outputs": []
    },
    {
      "cell_type": "code",
      "source": [
        "data.isna().sum()"
      ],
      "metadata": {
        "id": "Q_2MkJnCb881"
      },
      "execution_count": null,
      "outputs": []
    },
    {
      "cell_type": "markdown",
      "source": [
        "# Ручное преобразование некоторых категориальных признаков OneHotEncoding над остальными"
      ],
      "metadata": {
        "id": "Vw3uBT8Jfn1k"
      }
    },
    {
      "cell_type": "code",
      "source": [
        "y=data[\"Loan Status\"].astype(int)"
      ],
      "metadata": {
        "id": "IVswVBWucxlV"
      },
      "execution_count": null,
      "outputs": []
    },
    {
      "cell_type": "code",
      "source": [
        "data.dtypes"
      ],
      "metadata": {
        "id": "Ei9wD2_tcbl5"
      },
      "execution_count": null,
      "outputs": []
    },
    {
      "cell_type": "code",
      "source": [
        "old_real_columns=list(data.columns[data.dtypes=='int64'])+list(data.columns[data.dtypes=='float64'])"
      ],
      "metadata": {
        "id": "W8_xYnFbukeC"
      },
      "execution_count": null,
      "outputs": []
    },
    {
      "cell_type": "code",
      "source": [
        "\n",
        "k=0\n",
        "# посмотрим на то какие значения принимают категориальные признаки\n",
        "for col in data.columns[data.dtypes=='object']:\n",
        "  k+=1\n",
        "  plt.figure(figsize=(30,30))\n",
        "  val = data[col].value_counts()\n",
        "  plt.subplot(8, 2, k)\n",
        "  plt.pie(val.values, labels=val.index, autopct='%1.1f%%')\n",
        "  plt.title(col)"
      ],
      "metadata": {
        "id": "pzq3DLI4hioC"
      },
      "execution_count": null,
      "outputs": []
    },
    {
      "cell_type": "code",
      "source": [
        "data.loc[data['Loan Status']=='Fully Paid', 'Loan Status']=1\n",
        "data.loc[data['Loan Status']=='Charged Off', 'Loan Status']=0\n",
        "data[\"Loan Status\"]=data['Loan Status'].astype(int)\n",
        "\n",
        "data.loc[data['Term']=='Long Term', 'Term']=1\n",
        "data.loc[data['Term']=='Short Term', 'Term']=0\n",
        "data[\"Term\"]=data['Term'].astype(int)\n",
        "\n",
        "conversion_dict = {\n",
        "    \"8 years\": 8,\n",
        "    \"10+ years\": 10,\n",
        "    \"3 years\": 3,\n",
        "    \"5 years\": 5,\n",
        "    \"7 years\": 7,\n",
        "    -1: -1,\n",
        "    \"1 year\": 1,\n",
        "    \"2 years\": 2,\n",
        "    \"4 years\": 4,\n",
        "    \"6 years\": 6,\n",
        "    \"9 years\": 9,\n",
        "    \"< 1 year\": 0\n",
        "}\n",
        "data[\"Years in current job\"] = data[\"Years in current job\"].map(conversion_dict)\n",
        "data[\"Years in current job\"]=data['Years in current job'].astype(int)"
      ],
      "metadata": {
        "id": "D3FpwyllgTlG"
      },
      "execution_count": null,
      "outputs": []
    },
    {
      "cell_type": "code",
      "source": [
        "data"
      ],
      "metadata": {
        "id": "6IL90lCMSJnr"
      },
      "execution_count": null,
      "outputs": []
    },
    {
      "cell_type": "code",
      "source": [
        "data[\"Purpose\"].value_counts()"
      ],
      "metadata": {
        "id": "gBDrKMjVjnc6"
      },
      "execution_count": null,
      "outputs": []
    },
    {
      "cell_type": "code",
      "source": [
        "data[\"Purpose\"] = data[\"Purpose\"].str.lower()"
      ],
      "metadata": {
        "id": "0FWJkBJEkRUZ"
      },
      "execution_count": null,
      "outputs": []
    },
    {
      "cell_type": "code",
      "source": [
        "data.dtypes"
      ],
      "metadata": {
        "id": "4anvZkdOTYPr"
      },
      "execution_count": null,
      "outputs": []
    },
    {
      "cell_type": "code",
      "source": [
        "data"
      ],
      "metadata": {
        "id": "VRpB2RmemRpF"
      },
      "execution_count": null,
      "outputs": []
    },
    {
      "cell_type": "code",
      "source": [
        "from sklearn.model_selection import train_test_split, GridSearchCV\n",
        "from sklearn.preprocessing import StandardScaler, RobustScaler, OneHotEncoder\n",
        "from sklearn.pipeline import make_pipeline\n",
        "\n",
        "real_columns = np.hstack([np.array(data.columns[data.dtypes=='int64']),np.array(data.columns[data.dtypes=='float64']) ])# выделение вещественных признаков\n",
        "real_columns=real_columns[real_columns!='Loan Status']\n",
        "real_data = data[real_columns]\n",
        "transformSS = StandardScaler().fit(real_data)\n",
        "real_dataSS=transformSS.transform(real_data)\n",
        "# real_dataSS=real_data\n",
        "\n",
        "cat_columns=data.columns[data.dtypes=='object']# выделение категориальных признаков\n",
        "cat_data = data[cat_columns]\n",
        "\n",
        "encoder = OneHotEncoder(sparse_output=False)\n",
        "one_hot_data = encoder.fit(cat_data)\n",
        "one_hot_data = pd.DataFrame(one_hot_data.transform(cat_data), index=cat_data.index, columns=encoder.get_feature_names_out())\n",
        "new_data = pd.concat([pd.DataFrame(real_dataSS, columns=real_columns), one_hot_data], axis='columns')"
      ],
      "metadata": {
        "id": "4k0i801pkZxr"
      },
      "execution_count": null,
      "outputs": []
    },
    {
      "cell_type": "markdown",
      "source": [
        "# Анализ данных и работа над выбрасами"
      ],
      "metadata": {
        "id": "eAaGkxSbV5Ty"
      }
    },
    {
      "cell_type": "code",
      "source": [
        "import matplotlib.pyplot as plt\n",
        "import seaborn as sns"
      ],
      "metadata": {
        "id": "KCaxosLIawRy"
      },
      "execution_count": null,
      "outputs": []
    },
    {
      "cell_type": "code",
      "source": [
        "new_data[real_columns]"
      ],
      "metadata": {
        "id": "FH8TijKaWIpc"
      },
      "execution_count": null,
      "outputs": []
    },
    {
      "cell_type": "code",
      "source": [
        "plt.figure(figsize=(40,15))\n",
        "sns.boxplot(data=new_data[old_real_columns])\n",
        "plt.show()"
      ],
      "metadata": {
        "id": "LyUv4nVYatcf"
      },
      "execution_count": null,
      "outputs": []
    },
    {
      "cell_type": "code",
      "source": [
        "max(new_data[\"Maximum Open Credit\"])"
      ],
      "metadata": {
        "id": "iCYzWUbBbsmx"
      },
      "execution_count": null,
      "outputs": []
    },
    {
      "cell_type": "code",
      "source": [
        "  new_data['Maximum Open Credit'].mean()"
      ],
      "metadata": {
        "id": "-ktmkP2Ib3kS"
      },
      "execution_count": null,
      "outputs": []
    },
    {
      "cell_type": "code",
      "source": [
        "new_data.loc[new_data[\"Maximum Open Credit\"]<=new_data['Maximum Open Credit'].mean()*10]"
      ],
      "metadata": {
        "id": "o_9GIDQncQjQ"
      },
      "execution_count": null,
      "outputs": []
    },
    {
      "cell_type": "code",
      "source": [
        "new_data = new_data.drop(index=new_data[new_data[\"Maximum Open Credit\"]>new_data['Maximum Open Credit'].mean()*5].index)"
      ],
      "metadata": {
        "id": "xIXVOZwgc93F"
      },
      "execution_count": null,
      "outputs": []
    },
    {
      "cell_type": "code",
      "source": [
        "new_data"
      ],
      "metadata": {
        "id": "VcOpgENhdVpx"
      },
      "execution_count": null,
      "outputs": []
    },
    {
      "cell_type": "code",
      "source": [
        "plt.figure(figsize=(40,15))\n",
        "sns.boxplot(data=new_data[old_real_columns])\n",
        "plt.show()"
      ],
      "metadata": {
        "id": "DeqcuVyndSYs"
      },
      "execution_count": null,
      "outputs": []
    },
    {
      "cell_type": "code",
      "source": [
        "max(new_data[\"Annual Income\"])"
      ],
      "metadata": {
        "id": "sgPHryyld_4V"
      },
      "execution_count": null,
      "outputs": []
    },
    {
      "cell_type": "code",
      "source": [
        "sns.histplot(data=new_data, x=\"Annual Income\", bins=100, color='blue')  # Добавляем KDE (плавную линию)\n",
        "plt.xlabel(\"Диапазоны значений\")\n",
        "plt.ylabel(\"Количество значений\")\n",
        "plt.show()"
      ],
      "metadata": {
        "id": "niEdyM-teL6U"
      },
      "execution_count": null,
      "outputs": []
    },
    {
      "cell_type": "code",
      "source": [
        "new_data = new_data.drop(index=new_data[new_data[\"Annual Income\"]>new_data[\"Annual Income\"].mean()*4].index)"
      ],
      "metadata": {
        "id": "njSNXJ-Gh--S"
      },
      "execution_count": null,
      "outputs": []
    },
    {
      "cell_type": "code",
      "source": [
        "plt.figure(figsize=(40,15))\n",
        "sns.boxplot(data=new_data[old_real_columns])\n",
        "plt.show()"
      ],
      "metadata": {
        "id": "tnczi1t9iT16"
      },
      "execution_count": null,
      "outputs": []
    },
    {
      "cell_type": "code",
      "source": [
        "new_data"
      ],
      "metadata": {
        "id": "TlyU5odiifId"
      },
      "execution_count": null,
      "outputs": []
    },
    {
      "cell_type": "code",
      "source": [
        "new_data = new_data.drop(index=new_data[(new_data[\"Current Loan Amount\"]==max(new_data[\"Current Loan Amount\"]))].index)\n",
        "new_data = new_data.drop(index=new_data[(new_data[\"Current Credit Balance\"]==new_data[\"Current Credit Balance\"].mean()*5)].index)"
      ],
      "metadata": {
        "id": "Hu1PSruVivto"
      },
      "execution_count": null,
      "outputs": []
    },
    {
      "cell_type": "code",
      "source": [
        "data"
      ],
      "metadata": {
        "id": "yzRe_-thkK81"
      },
      "execution_count": null,
      "outputs": []
    },
    {
      "cell_type": "code",
      "source": [
        "plt.figure(figsize=(40,15))\n",
        "sns.boxplot(new_data[old_real_columns])\n",
        "plt.show()"
      ],
      "metadata": {
        "id": "6uQA5sXvknU-"
      },
      "execution_count": null,
      "outputs": []
    },
    {
      "cell_type": "code",
      "source": [
        "import matplotlib.pyplot as plt\n",
        "import seaborn as sns\n",
        "\n",
        "# Перебор всех признаков в real_columns\n",
        "for column in old_real_columns:\n",
        "    plt.figure(figsize=(12, 6))  # Размер графика для каждого признака\n",
        "    sns.boxplot(data=new_data, x=column)\n",
        "    plt.title(f\"Boxplot for {column}\", fontsize=16)  # Заголовок для графика\n",
        "    plt.xlabel(column, fontsize=14)  # Подпись для оси X\n",
        "    plt.ylabel(\"Values\", fontsize=14)  # Подпись для оси Y\n",
        "    plt.grid(True)\n",
        "    plt.show()  # Отображение графика\n",
        "\n"
      ],
      "metadata": {
        "id": "4Im8-02llJAW"
      },
      "execution_count": null,
      "outputs": []
    },
    {
      "cell_type": "markdown",
      "source": [
        "# Проверка кореляции между признаками"
      ],
      "metadata": {
        "id": "FVROsbEGxvzh"
      }
    },
    {
      "cell_type": "code",
      "source": [
        "import seaborn as sns\n",
        "import matplotlib.pyplot as plt\n",
        "\n",
        "# Compute the initial correlation matrix including the target\n",
        "corrmat = pd.concat([new\n",
        "                     3_data, y], axis=1).corr()\n",
        "\n",
        "# Select top k columns based on correlation with the target\n",
        "k = 10\n",
        "cols = corrmat.nlargest(k, target_col)[target_col].index\n",
        "\n",
        "# Subset the correlation matrix for these columns\n",
        "cm = corrmat.loc[cols, cols].values\n",
        "\n",
        "# Plot the heatmap\n",
        "sns.set(font_scale=1.25)\n",
        "plt.figure(figsize=(10, 10))\n",
        "hm = sns.heatmap(cm, cbar=True, annot=True, square=True, fmt='.2f',\n",
        "                 annot_kws={'size': 10}, yticklabels=cols, xticklabels=cols)\n",
        "plt.show()"
      ],
      "metadata": {
        "id": "rUSozWPYDtxE"
      },
      "execution_count": null,
      "outputs": []
    },
    {
      "cell_type": "code",
      "source": [
        "new_data[\"Number of Occurrences\"]"
      ],
      "metadata": {
        "id": "fYSvOObiGUf2"
      },
      "execution_count": null,
      "outputs": []
    },
    {
      "cell_type": "markdown",
      "source": [
        "# Обучение модели"
      ],
      "metadata": {
        "id": "MsUx4k4VH5A6"
      }
    },
    {
      "cell_type": "code",
      "source": [
        "new_data"
      ],
      "metadata": {
        "id": "fi5gw-EhIxRM"
      },
      "execution_count": null,
      "outputs": []
    },
    {
      "cell_type": "code",
      "metadata": {
        "id": "Fioxxlp-EEZS"
      },
      "source": [
        "X_train, X_test, y_train, y_test = train_test_split(new_data, y, test_size=0.2, random_state=42)"
      ],
      "execution_count": null,
      "outputs": []
    },
    {
      "cell_type": "markdown",
      "source": [
        "В качестве примера, импортируем модель `LogisticRegression`"
      ],
      "metadata": {
        "id": "L9NEqcMacrkU"
      }
    },
    {
      "cell_type": "code",
      "source": [
        "from sklearn.linear_model import LogisticRegression"
      ],
      "metadata": {
        "id": "qDy9pjzmbLDB"
      },
      "execution_count": null,
      "outputs": []
    },
    {
      "cell_type": "code",
      "source": [
        "%%capture\n",
        "!pip install catboost\n",
        "from sklearn.ensemble import AdaBoostClassifier, RandomForestClassifier\n",
        "from sklearn.gaussian_process import GaussianProcessClassifier\n",
        "from sklearn.naive_bayes import GaussianNB\n",
        "from sklearn.neighbors import KNeighborsClassifier\n",
        "from sklearn.svm import SVC\n",
        "from sklearn.tree import DecisionTreeClassifier\n",
        "from catboost import CatBoostClassifier"
      ],
      "metadata": {
        "id": "fWTANjK1c4Oi"
      },
      "execution_count": null,
      "outputs": []
    },
    {
      "cell_type": "code",
      "source": [
        "models = {\n",
        "    \"LogisticRegression\": LogisticRegression(),\n",
        "    \"AdaBoost\": AdaBoostClassifier(),\n",
        "    \"RandomForest\": RandomForestClassifier(),\n",
        "    \"GaussianProcess\": GaussianProcessClassifier(),\n",
        "    \"GaussianNB\": GaussianNB(),\n",
        "    \"KNeighbors\": KNeighborsClassifier(),\n",
        "    \"SVC\": SVC(),\n",
        "    \"DecisionTree\": DecisionTreeClassifier(),\n",
        "    \"CatBoost\": CatBoostClassifier(verbose=False)\n",
        "}\n",
        "\n",
        "trained_models = {}\n",
        "\n",
        "for name, model in models.items():\n",
        "    model.fit(X_train, y_train)\n",
        "    trained_models[name] = model\n",
        "    print(f\"{name} обучен.\")\n"
      ],
      "metadata": {
        "id": "Rp4yJWxXgQXA"
      },
      "execution_count": null,
      "outputs": []
    }
  ]
}